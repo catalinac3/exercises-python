{
 "cells": [
  {
   "cell_type": "markdown",
   "metadata": {},
   "source": [
    "<p style=\"border: .3ex solid blue; padding: .5ex\">Understanding the Levenshtein-Distanz concept and code its calculations </p>\n"
   ]
  },
  {
   "cell_type": "markdown",
   "metadata": {},
   "source": [
    "\n",
    "### Dynamic programming \n",
    "\n",
    "Dynamische Programmierung ist eine Methode zum algorithmischen Lösen eines Optimierungsproblems durch Aufteilung in Teilprobleme und systematische Speicherung von Zwischenresultaten.\n",
    "\n",
    "Dynamische Programmierung kann erfolgreich eingesetzt werden, wenn ein Optimierungsproblem aus vielen gleichartigen Teilproblemen besteht und eine optimale Lösung des Problems sich aus optimalen Lösungen der Teilprobleme zusammensetzt.Dies nennt man Optimalitätsprinzip von Bellman. In der dynamischen Programmierung werden zuerst die optimalen Lösungen der kleinsten Teilprobleme direkt berechnet und dann geeignet zu einer Lösung eines nächstgrößeren Teilproblems zusammengesetzt. Dieses Verfahren setzt man fort, bis das ursprüngliche Problem gelöst wurde. Einmal berechnete Teilergebnisse werden in einer Tabelle gespeichert. Bei nachfolgenden Berechnungen gleichartiger Teilprobleme wird auf diese Zwischenlösungen zurückgegriffen, anstatt sie jedes Mal neu zu berechnen, was zu einer Senkung der Laufzeit führt. Wird die dynamische Programmierung konsequent eingesetzt, vermeidet sie kostspielige Rekursionen, weil bekannte Teilergebnisse wiederverwendet werden.\n",
    "https://de.wikipedia.org/wiki/Dynamische_Programmierung\n",
    "\n",
    "### Levenshtein-Distanz\n",
    "\n",
    "Die Levenshtein-Distanz (auch Editierdistanz) zwischen zwei Zeichenketten ist die minimale Anzahl von Einfüge-, Lösch- und Ersetz-Operationen, um die erste Zeichenkette in die zweite umzuwandeln.\n",
    "\n",
    "In der Praxis wird die Levenshtein-Distanz zur Bestimmung der Ähnlichkeit von Zeichenketten beispielsweise zur Rechtschreibprüfung oder bei der Duplikaterkennung angewandt.\n",
    "\n",
    "Zur Erkennung von Duplikaten werden verschiedene Ähnlichkeitsmaße angewandt, beispielsweise die Levenshtein-Distanz oder die Schreibmaschinendistanz. \n",
    "Es gibt phonetische Algorithmen, die Wörtern nach ihrem Sprachklang eine Zeichenfolge zuordnen, den phonetischen Code, um eine Ähnlichkeitssuche zu implementieren, zum Beispiel Soundex und Kölner Phonetik.\n",
    "https://de.wikipedia.org/wiki/Levenshtein-Distanz\n",
    "\n",
    "Duplikaterkennung:\n",
    "### Examples we can used (in following trial):\n",
    "Max Müller\n",
    "Max Mueller\n",
    "M. Müller\n",
    "Max Muller\n",
    "https://de.wikipedia.org/wiki/Duplikaterkennung\n",
    "\n",
    "\n",
    "### The code was adapted from this video:\n",
    "https://www.youtube.com/watch?v=We3YDTzNXEk&list=PLPvPw3zMYslR4kfVQj8XQE8yjx7wQ3NOb&index=4&t=188s\n"
   ]
  },
  {
   "cell_type": "code",
   "execution_count": 3,
   "metadata": {},
   "outputs": [
    {
     "name": "stdout",
     "output_type": "stream",
     "text": [
      "The levenshtein distance is: 3.0\n",
      "[[0. 1. 2. 3. 4. 5. 6.]\n",
      " [1. 0. 1. 2. 3. 4. 5.]\n",
      " [2. 1. 1. 2. 3. 4. 5.]\n",
      " [3. 2. 2. 1. 2. 3. 4.]\n",
      " [4. 3. 3. 2. 2. 2. 3.]\n",
      " [5. 4. 4. 3. 2. 3. 3.]]\n"
     ]
    }
   ],
   "source": [
    "# Calculating the levenshtein distance\n",
    "import numpy as np\n",
    "str1='azced'\n",
    "str2='abcdef'\n",
    "\n",
    "# m rows of the matrix, n columns of the matrix\n",
    "m=len(str1)+1\n",
    "n=len(str2)+1\n",
    "\n",
    "matrix=np.zeros(shape=(m,n))\n",
    "# Filling the first row and column with 1,2,3,4,5... depending on the number of\n",
    "# letters in each compared word\n",
    "for i in range(m):\n",
    "    #Filling rows\n",
    "    matrix[i][0]=i\n",
    "for j in range(n):\n",
    "    matrix[0][j]=j\n",
    "\n",
    "# Filling the matrix\n",
    "\n",
    "for l in range(1,m):\n",
    "    for k in range(1,n):\n",
    "        if str1[l-1]==str2[k-1]:\n",
    "            # print('strings letter',str1[l-1],'and',str2[k-1],'are the same!')\n",
    "            matrix[l][k]=matrix[l-1][k-1]\n",
    "            # print('the value in the matrix with position [',l,',',k,'] is then',matrix[l][k])\n",
    "        else:\n",
    "            # print('strings letter ',str1[l-1],'and',str2[k-1],'are different!')\n",
    "            matrix[l][k]=min(matrix[l-1][k],matrix[l-1][k-1],matrix[l][k-1])+1\n",
    "            # print('the value in the matrix with position [',l,',',k,'] is',matrix[l][k])\n",
    "print('The levenshtein distance is:', matrix[m-1][n-1])\n",
    "print(matrix)\n"
   ]
  },
  {
   "cell_type": "markdown",
   "metadata": {},
   "source": [
    "<p style=\"border: .3ex solid blue; padding: .5ex\"> Transform the code to a function </p>"
   ]
  },
  {
   "cell_type": "code",
   "execution_count": 6,
   "metadata": {},
   "outputs": [],
   "source": [
    "str_probe1='azced'\n",
    "str_probe2='abcdef'\n",
    "def levenshtein (str1, str2):\n",
    "    '''this codes finds the levenshtein distance between two strings'''\n",
    "# m rows of the matrix, n columns of the matrix\n",
    "    m=len(str1)+1\n",
    "    n=len(str2)+1\n",
    "\n",
    "    matrix=np.zeros(shape=(m,n))\n",
    "# Filling the first row and column with 1,2,3,4,5... depending on the number of\n",
    "# letters in each compared word\n",
    "    for i in range(m):\n",
    "    #Filling rows\n",
    "        matrix[i][0]=i\n",
    "    for j in range(n):\n",
    "        matrix[0][j]=j\n",
    "\n",
    "\n",
    "    for l in range(1,m):\n",
    "        for k in range(1,n):\n",
    "            if str1[l-1]==str2[k-1]:\n",
    "            # print('strings letter',str1[l-1],'and',str2[k-1],'are the same!')\n",
    "                matrix[l][k]=matrix[l-1][k-1]\n",
    "            # print('the value in the matrix with position [',l,',',k,'] is then',matrix[l][k])\n",
    "            else:\n",
    "            # print('strings letter ',str1[l-1],'and',str2[k-1],'are different!')\n",
    "                matrix[l][k]=min(matrix[l-1][k],matrix[l-1][k-1],matrix[l][k-1])+1\n",
    "            # print('the value in the matrix with position [',l,',',k,'] is',matrix[l][k])\n",
    "    print('The levenshtein distance is:', matrix[m-1][n-1])\n",
    "    print(matrix)\n"
   ]
  },
  {
   "cell_type": "code",
   "execution_count": 7,
   "metadata": {},
   "outputs": [
    {
     "name": "stdout",
     "output_type": "stream",
     "text": [
      "THE LEVENSHTEIN DISTANCE IS 3.0\n",
      "[[0. 1. 2. 3. 4. 5. 6.]\n",
      " [1. 0. 1. 2. 3. 4. 5.]\n",
      " [2. 1. 1. 2. 3. 4. 5.]\n",
      " [3. 2. 2. 1. 2. 3. 4.]\n",
      " [4. 3. 3. 2. 2. 2. 3.]\n",
      " [5. 4. 4. 3. 2. 3. 3.]]\n"
     ]
    }
   ],
   "source": [
    "levenshtein(str_probe1,str_probe2)"
   ]
  },
  {
   "cell_type": "code",
   "execution_count": 8,
   "metadata": {},
   "outputs": [
    {
     "name": "stdout",
     "output_type": "stream",
     "text": [
      "THE LEVENSHTEIN DISTANCE IS 2.0\n",
      "[[ 0.  1.  2.  3.  4.  5.  6.  7.  8.  9. 10. 11.]\n",
      " [ 1.  0.  1.  2.  3.  4.  5.  6.  7.  8.  9. 10.]\n",
      " [ 2.  1.  0.  1.  2.  3.  4.  5.  6.  7.  8.  9.]\n",
      " [ 3.  2.  1.  0.  1.  2.  3.  4.  5.  6.  7.  8.]\n",
      " [ 4.  3.  2.  1.  0.  1.  2.  3.  4.  5.  6.  7.]\n",
      " [ 5.  4.  3.  2.  1.  0.  1.  2.  3.  4.  5.  6.]\n",
      " [ 6.  5.  4.  3.  2.  1.  1.  2.  3.  4.  5.  6.]\n",
      " [ 7.  6.  5.  4.  3.  2.  2.  2.  2.  3.  4.  5.]\n",
      " [ 8.  7.  6.  5.  4.  3.  3.  3.  2.  2.  3.  4.]\n",
      " [ 9.  8.  7.  6.  5.  4.  4.  3.  3.  3.  2.  3.]\n",
      " [10.  9.  8.  7.  6.  5.  5.  4.  4.  4.  3.  2.]]\n"
     ]
    }
   ],
   "source": [
    "str_example1='Max Müller' \n",
    "str_example2='Max Mueller'\n",
    "str_example3='M. Müller'\n",
    "str_example4='Max Muller'\n",
    "levenshtein(str_example1,str_example2)"
   ]
  },
  {
   "cell_type": "code",
   "execution_count": 9,
   "metadata": {},
   "outputs": [
    {
     "name": "stdout",
     "output_type": "stream",
     "text": [
      "THE LEVENSHTEIN DISTANCE IS 4.0\n",
      "[[ 0.  1.  2.  3.  4.  5.  6.  7.  8.  9.]\n",
      " [ 1.  0.  1.  2.  3.  4.  5.  6.  7.  8.]\n",
      " [ 2.  1.  1.  2.  3.  4.  5.  6.  7.  8.]\n",
      " [ 3.  2.  2.  2.  3.  4.  5.  6.  7.  8.]\n",
      " [ 4.  3.  3.  2.  3.  4.  5.  6.  7.  8.]\n",
      " [ 5.  4.  4.  3.  2.  3.  4.  5.  6.  7.]\n",
      " [ 6.  5.  5.  4.  3.  3.  4.  5.  6.  7.]\n",
      " [ 7.  6.  6.  5.  4.  4.  4.  5.  5.  6.]\n",
      " [ 8.  7.  7.  6.  5.  5.  4.  4.  5.  6.]\n",
      " [ 9.  8.  8.  7.  6.  6.  5.  4.  5.  6.]\n",
      " [10.  9.  9.  8.  7.  7.  6.  5.  4.  5.]\n",
      " [11. 10. 10.  9.  8.  8.  7.  6.  5.  4.]]\n"
     ]
    }
   ],
   "source": [
    "levenshtein(str_example2,str_example3)"
   ]
  },
  {
   "cell_type": "code",
   "execution_count": 10,
   "metadata": {},
   "outputs": [
    {
     "name": "stdout",
     "output_type": "stream",
     "text": [
      "THE LEVENSHTEIN DISTANCE IS 3.0\n",
      "[[ 0.  1.  2.  3.  4.  5.  6.  7.  8.  9. 10.]\n",
      " [ 1.  0.  1.  2.  3.  4.  5.  6.  7.  8.  9.]\n",
      " [ 2.  1.  1.  2.  3.  4.  5.  6.  7.  8.  9.]\n",
      " [ 3.  2.  2.  2.  2.  3.  4.  5.  6.  7.  8.]\n",
      " [ 4.  3.  3.  3.  3.  2.  3.  4.  5.  6.  7.]\n",
      " [ 5.  4.  4.  4.  4.  3.  3.  4.  5.  6.  7.]\n",
      " [ 6.  5.  5.  5.  5.  4.  4.  3.  4.  5.  6.]\n",
      " [ 7.  6.  6.  6.  6.  5.  5.  4.  3.  4.  5.]\n",
      " [ 8.  7.  7.  7.  7.  6.  6.  5.  4.  3.  4.]\n",
      " [ 9.  8.  8.  8.  8.  7.  7.  6.  5.  4.  3.]]\n"
     ]
    }
   ],
   "source": [
    "levenshtein(str_example3,str_example4)"
   ]
  },
  {
   "cell_type": "code",
   "execution_count": 11,
   "metadata": {},
   "outputs": [
    {
     "name": "stdout",
     "output_type": "stream",
     "text": [
      "THE LEVENSHTEIN DISTANCE IS 1.0\n",
      "[[ 0.  1.  2.  3.  4.  5.  6.  7.  8.  9. 10.]\n",
      " [ 1.  0.  1.  2.  3.  4.  5.  6.  7.  8.  9.]\n",
      " [ 2.  1.  0.  1.  2.  3.  4.  5.  6.  7.  8.]\n",
      " [ 3.  2.  1.  0.  1.  2.  3.  4.  5.  6.  7.]\n",
      " [ 4.  3.  2.  1.  0.  1.  2.  3.  4.  5.  6.]\n",
      " [ 5.  4.  3.  2.  1.  0.  1.  2.  3.  4.  5.]\n",
      " [ 6.  5.  4.  3.  2.  1.  1.  2.  3.  4.  5.]\n",
      " [ 7.  6.  5.  4.  3.  2.  2.  1.  2.  3.  4.]\n",
      " [ 8.  7.  6.  5.  4.  3.  3.  2.  1.  2.  3.]\n",
      " [ 9.  8.  7.  6.  5.  4.  4.  3.  2.  1.  2.]\n",
      " [10.  9.  8.  7.  6.  5.  5.  4.  3.  2.  1.]]\n"
     ]
    }
   ],
   "source": [
    "levenshtein(str_example4,str_example1)"
   ]
  },
  {
   "cell_type": "markdown",
   "metadata": {},
   "source": [
    "The values were checked with https://planetcalc.com/1721/, a online levenshtein distance calculator."
   ]
  }
 ],
 "metadata": {
  "kernelspec": {
   "display_name": "Python 3",
   "language": "python",
   "name": "python3"
  },
  "language_info": {
   "codemirror_mode": {
    "name": "ipython",
    "version": 3
   },
   "file_extension": ".py",
   "mimetype": "text/x-python",
   "name": "python",
   "nbconvert_exporter": "python",
   "pygments_lexer": "ipython3",
   "version": "3.7.3"
  }
 },
 "nbformat": 4,
 "nbformat_minor": 2
}
